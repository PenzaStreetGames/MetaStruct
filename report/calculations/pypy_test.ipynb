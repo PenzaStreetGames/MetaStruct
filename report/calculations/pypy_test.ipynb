{
 "cells": [
  {
   "cell_type": "markdown",
   "source": [
    "# Замеры скорости для PyPy\n",
    "\n",
    "Так как для запуска PyPy отдельно от Питона нужен отдельный интерпретатор, блокнот тоже взят отдельный."
   ],
   "metadata": {
    "collapsed": false
   }
  },
  {
   "cell_type": "code",
   "execution_count": 1,
   "outputs": [],
   "source": [
    "from annotation import jit\n",
    "from timeit import timeit, repeat\n",
    "from json import dumps\n",
    "\n",
    "import numpy as np\n"
   ],
   "metadata": {
    "collapsed": false,
    "pycharm": {
     "name": "#%%\n"
    }
   }
  },
  {
   "cell_type": "code",
   "execution_count": 3,
   "outputs": [],
   "source": [
    "results = {}"
   ],
   "metadata": {
    "collapsed": false,
    "pycharm": {
     "name": "#%%\n"
    }
   }
  },
  {
   "cell_type": "markdown",
   "source": [
    "## Усреднённые значения вызовов на простой функции"
   ],
   "metadata": {
    "collapsed": false
   }
  },
  {
   "cell_type": "code",
   "execution_count": 4,
   "outputs": [],
   "source": [
    "def pypy_sum(x: int, y: int) -> int:\n",
    "    res: int = x + y\n",
    "    return res"
   ],
   "metadata": {
    "collapsed": false,
    "pycharm": {
     "name": "#%%\n"
    }
   }
  },
  {
   "cell_type": "code",
   "execution_count": 5,
   "outputs": [
    {
     "name": "stdout",
     "output_type": "stream",
     "text": [
      "[0.09988090000115335, 0.09813860000576824, 0.09835220000240952, 0.11718719999771565, 0.09999650000827387, 0.09985900000901893, 0.0995898999972269, 0.09989769995445386, 0.09874079999281093, 0.09859180002240464]\n"
     ]
    }
   ],
   "source": [
    "pypy_exec_time = repeat(lambda: pypy_sum(2, 2), repeat=10, number=1000000)\n",
    "print(pypy_exec_time)"
   ],
   "metadata": {
    "collapsed": false,
    "pycharm": {
     "name": "#%%\n"
    }
   }
  },
  {
   "cell_type": "code",
   "execution_count": 6,
   "outputs": [],
   "source": [
    "xs = range(1, 11)\n",
    "results[\"sum\"] = [list(xs), pypy_exec_time]\n"
   ],
   "metadata": {
    "collapsed": false,
    "pycharm": {
     "name": "#%%\n"
    }
   }
  },
  {
   "cell_type": "markdown",
   "source": [
    "## Функция вычисления экспоненты с помощью разложения в ряд Тейлора"
   ],
   "metadata": {
    "collapsed": false
   }
  },
  {
   "cell_type": "code",
   "execution_count": 8,
   "outputs": [],
   "source": [
    "def pypy_exp(x: float) -> float:\n",
    "    res: float = 0\n",
    "    threshold: float = 1e-30\n",
    "    delta: float = 1\n",
    "    elements: int = 0\n",
    "    while delta > threshold:\n",
    "        elements = elements + 1\n",
    "        delta = delta * x / elements\n",
    "    while elements >= 0:\n",
    "        res += delta\n",
    "        delta = delta * elements / x\n",
    "        elements -= 1\n",
    "    return res\n"
   ],
   "metadata": {
    "collapsed": false,
    "pycharm": {
     "name": "#%%\n"
    }
   }
  },
  {
   "cell_type": "code",
   "execution_count": 11,
   "outputs": [
    {
     "name": "stdout",
     "output_type": "stream",
     "text": [
      "exp(250) = 3746454614502660877998657881484689260451454624001099543290316630153610787704025897267034669677141296546840576.000000000000000000000000000000\n",
      "[0.12120669998694211, 0.1676558000035584, 0.23789669998222962, 0.2760334999766201, 0.32595530000980943, 0.35333519999403507, 0.4003392999875359, 0.4515677000163123, 0.5425614000414498, 0.555046699999366, 0.6281444999622181, 0.6689620999968611, 0.690308700024616, 0.7371551000396721, 0.7855007000034675, 0.8472960999934003, 0.9347611999837682, 0.9237144000362605, 0.982869400002528, 1.0346267000422813, 1.077914499968756, 1.1484616000088863, 1.1625329999951646, 1.250912800023798, 1.2910311000305228]\n"
     ]
    }
   ],
   "source": [
    "arg = 250\n",
    "print(f\"exp({arg}) = {pypy_exp(arg):.30f}\")\n",
    "args = range(10, 260, 10)\n",
    "pypy_exp_time = []\n",
    "for arg in args:\n",
    "    pypy_exp_time.append(timeit(lambda: pypy_exp(arg), number=10000))\n",
    "print(pypy_exp_time)"
   ],
   "metadata": {
    "collapsed": false,
    "pycharm": {
     "name": "#%%\n"
    }
   }
  },
  {
   "cell_type": "code",
   "execution_count": 12,
   "outputs": [],
   "source": [
    "results[\"exp\"] = [list(args), pypy_exp_time]\n"
   ],
   "metadata": {
    "collapsed": false,
    "pycharm": {
     "name": "#%%\n"
    }
   }
  },
  {
   "cell_type": "markdown",
   "source": [
    "### Простая хеш-функция для целых чисел"
   ],
   "metadata": {
    "collapsed": false
   }
  },
  {
   "cell_type": "code",
   "execution_count": 13,
   "outputs": [],
   "source": [
    "def pypy_hash(x: int) -> int:\n",
    "    x = ((x >> 16) ^ x) * 0x45d9f3b\n",
    "    x = ((x >> 16) ^ x) * 0x45d9f3b\n",
    "    x = (x >> 16) ^ x\n",
    "    return x\n"
   ],
   "metadata": {
    "collapsed": false,
    "pycharm": {
     "name": "#%%\n"
    }
   }
  },
  {
   "cell_type": "code",
   "execution_count": 14,
   "outputs": [
    {
     "name": "stdout",
     "output_type": "stream",
     "text": [
      "[0.3546615999657661, 0.34810409997589886, 0.34468709997599944, 0.3426058000186458, 0.3420964000397362, 0.3449595000129193, 0.34414410003228113, 0.3453126999665983, 0.35613889998057857, 0.3654800999793224]\n"
     ]
    }
   ],
   "source": [
    "pypy_hash_time = repeat(lambda: pypy_hash(42), repeat=10, number=1000000)\n",
    "print(pypy_hash_time)"
   ],
   "metadata": {
    "collapsed": false,
    "pycharm": {
     "name": "#%%\n"
    }
   }
  },
  {
   "cell_type": "code",
   "execution_count": 15,
   "outputs": [],
   "source": [
    "xs = range(1, 11)\n",
    "results[\"hash\"] = [list(xs), pypy_hash_time]\n"
   ],
   "metadata": {
    "collapsed": false,
    "pycharm": {
     "name": "#%%\n"
    }
   }
  },
  {
   "cell_type": "markdown",
   "source": [
    "### Числа Фибоначчи"
   ],
   "metadata": {
    "collapsed": false
   }
  },
  {
   "cell_type": "code",
   "execution_count": 17,
   "outputs": [],
   "source": [
    "def pypy_fib(n: int) -> int:\n",
    "    if n < 2:\n",
    "        return 1\n",
    "    return pypy_fib(n - 1) + pypy_fib(n - 2)"
   ],
   "metadata": {
    "collapsed": false,
    "pycharm": {
     "name": "#%%\n"
    }
   }
  },
  {
   "cell_type": "code",
   "execution_count": 20,
   "outputs": [
    {
     "name": "stdout",
     "output_type": "stream",
     "text": [
      "fib(30) = 1346269\n",
      "[2.00001522898674e-06, 3.500026650726795e-06, 4.599976819008589e-06, 7.199996616691351e-06, 1.1399970389902592e-05, 1.850002445280552e-05, 2.9699993319809437e-05, 4.770001396536827e-05, 7.429998368024826e-05, 0.00012019998393952847, 0.00019869999960064888, 0.000311399984639138, 0.0005107999895699322, 0.0008371000294573605, 0.0013226000010035932, 0.0024093000101856887, 0.003486700006760657, 0.00596199999563396, 0.009394399996381253, 0.015616299991961569, 0.024903199984692037, 0.03809469996485859, 0.0778693999745883, 0.10550129995681345, 0.16616760002216324, 0.2765617999830283, 0.43292499997187406, 0.7023468000115827, 1.1646154000191018, 1.8425163000356406]\n"
     ]
    }
   ],
   "source": [
    "arg = 30\n",
    "print(f\"fib({arg}) = {pypy_fib(arg)}\")\n",
    "args = range(1, 31)\n",
    "pypy_fib_time = []\n",
    "for arg in args:\n",
    "    pypy_fib_time.append(timeit(lambda: pypy_fib(arg), number=10))\n",
    "print(pypy_fib_time)"
   ],
   "metadata": {
    "collapsed": false,
    "pycharm": {
     "name": "#%%\n"
    }
   }
  },
  {
   "cell_type": "code",
   "execution_count": 21,
   "outputs": [],
   "source": [
    "results[\"fib\"] = [list(args), pypy_fib_time]"
   ],
   "metadata": {
    "collapsed": false,
    "pycharm": {
     "name": "#%%\n"
    }
   }
  },
  {
   "cell_type": "code",
   "execution_count": 25,
   "outputs": [],
   "source": [
    "with open(\"pypy_performance.json\", \"w\", encoding=\"utf-8\") as outfile:\n",
    "    outfile.write(dumps(results, indent=2))"
   ],
   "metadata": {
    "collapsed": false,
    "pycharm": {
     "name": "#%%\n"
    }
   }
  },
  {
   "cell_type": "code",
   "execution_count": 27,
   "outputs": [
    {
     "data": {
      "text/plain": "'{\"sum\": [[1, 2, 3, 4, 5, 6, 7, 8, 9, 10], [0.09988090000115335, 0.09813860000576824, 0.09835220000240952, 0.11718719999771565, 0.09999650000827387, 0.09985900000901893, 0.0995898999972269, 0.09989769995445386, 0.09874079999281093, 0.09859180002240464]], \"exp\": [[10, 20, 30, 40, 50, 60, 70, 80, 90, 100, 110, 120, 130, 140, 150, 160, 170, 180, 190, 200, 210, 220, 230, 240, 250], [0.12120669998694211, 0.1676558000035584, 0.23789669998222962, 0.2760334999766201, 0.32595530000980943, 0.35333519999403507, 0.4003392999875359, 0.4515677000163123, 0.5425614000414498, 0.555046699999366, 0.6281444999622181, 0.6689620999968611, 0.690308700024616, 0.7371551000396721, 0.7855007000034675, 0.8472960999934003, 0.9347611999837682, 0.9237144000362605, 0.982869400002528, 1.0346267000422813, 1.077914499968756, 1.1484616000088863, 1.1625329999951646, 1.250912800023798, 1.2910311000305228]], \"hash\": [[1, 2, 3, 4, 5, 6, 7, 8, 9, 10], [0.3546615999657661, 0.34810409997589886, 0.34468709997599944, 0.3426058000186458, 0.3420964000397362, 0.3449595000129193, 0.34414410003228113, 0.3453126999665983, 0.35613889998057857, 0.3654800999793224]], \"fib\": [[1, 2, 3, 4, 5, 6, 7, 8, 9, 10, 11, 12, 13, 14, 15, 16, 17, 18, 19, 20, 21, 22, 23, 24, 25, 26, 27, 28, 29, 30], [2.00001522898674e-06, 3.500026650726795e-06, 4.599976819008589e-06, 7.199996616691351e-06, 1.1399970389902592e-05, 1.850002445280552e-05, 2.9699993319809437e-05, 4.770001396536827e-05, 7.429998368024826e-05, 0.00012019998393952847, 0.00019869999960064888, 0.000311399984639138, 0.0005107999895699322, 0.0008371000294573605, 0.0013226000010035932, 0.0024093000101856887, 0.003486700006760657, 0.00596199999563396, 0.009394399996381253, 0.015616299991961569, 0.024903199984692037, 0.03809469996485859, 0.0778693999745883, 0.10550129995681345, 0.16616760002216324, 0.2765617999830283, 0.43292499997187406, 0.7023468000115827, 1.1646154000191018, 1.8425163000356406]]}'"
     },
     "execution_count": 27,
     "metadata": {},
     "output_type": "execute_result"
    }
   ],
   "source": [
    "dumps(results)"
   ],
   "metadata": {
    "collapsed": false,
    "pycharm": {
     "name": "#%%\n"
    }
   }
  }
 ],
 "metadata": {
  "kernelspec": {
   "display_name": "Python 3",
   "language": "python",
   "name": "python3"
  },
  "language_info": {
   "codemirror_mode": {
    "name": "ipython",
    "version": 2
   },
   "file_extension": ".py",
   "mimetype": "text/x-python",
   "name": "python",
   "nbconvert_exporter": "python",
   "pygments_lexer": "ipython2",
   "version": "2.7.6"
  }
 },
 "nbformat": 4,
 "nbformat_minor": 0
}